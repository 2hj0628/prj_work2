{
 "cells": [
  {
   "cell_type": "code",
   "execution_count": 36,
   "id": "52b09840",
   "metadata": {},
   "outputs": [],
   "source": [
    "from bs4 import BeautifulSoup\n",
    "from selenium import webdriver\n",
    "from selenium.webdriver.common.by import By\n",
    "from selenium.webdriver.common.keys import Keys\n",
    "import time\n",
    "import sys\n",
    "import os\n",
    "import pandas as pd"
   ]
  },
  {
   "cell_type": "code",
   "execution_count": 37,
   "id": "11117b4a",
   "metadata": {},
   "outputs": [
    {
     "name": "stderr",
     "output_type": "stream",
     "text": [
      "C:\\Users\\user\\AppData\\Local\\Temp\\ipykernel_9100\\3214305788.py:3: DeprecationWarning: executable_path has been deprecated, please pass in a Service object\n",
      "  driver = webdriver.Chrome(path)\n"
     ]
    }
   ],
   "source": [
    "# KOBIS (일별 박스오피스) 페이지 접속하기\n",
    "path = \"C:\\\\web_driver\\\\chromedriver.exe\"\n",
    "driver = webdriver.Chrome(path)\n",
    "driver.get(\"https://www.kobis.or.kr/kobis/business/stat/boxs/findDailyBoxOfficeList.do\")\n",
    "time.sleep(3)"
   ]
  },
  {
   "cell_type": "code",
   "execution_count": 38,
   "id": "30a7f09d",
   "metadata": {},
   "outputs": [],
   "source": [
    "# kobis crawling\n",
    "\n",
    "# 날짜 입력 후 조회하기\n",
    "input_date=20221020\n",
    "\n",
    "while input_date >= 20201020 :\n",
    "    \n",
    "    try :\n",
    "        # 시작날짜 입력\n",
    "        date_from=driver.find_element(By.XPATH,'//*[@id=\"sSearchFrom\"]')\n",
    "\n",
    "        for i in range(10):\n",
    "            date_from.send_keys(Keys.BACKSPACE) \n",
    "\n",
    "        date_from.send_keys(input_date) \n",
    "\n",
    "        # 종료날짜 입력\n",
    "        date_to=driver.find_element(By.XPATH,'//*[@id=\"sSearchTo\"]')\n",
    "\n",
    "        for i in range(10):\n",
    "            date_to.send_keys(Keys.BACKSPACE)\n",
    "\n",
    "        date_to.send_keys(input_date)\n",
    "        \n",
    "        # 조회 버튼 클릭\n",
    "        search_btn=driver.find_element(By.XPATH,'//*[@id=\"searchForm\"]/div/div[5]/button')\n",
    "        search_btn.click()\n",
    "        time.sleep(2)\n",
    "        \n",
    "        #더보기 클릭하여 전체 자료보기\n",
    "        while True :\n",
    "            try :\n",
    "                driver.find_element(By.LINK_TEXT,\"더보기\").click()\n",
    "            except :\n",
    "                break\n",
    "        \n",
    "        #영화 차트 수집하기\n",
    "        \n",
    "        #컬럼 리스트 생성\n",
    "        \n",
    "        #항목 리스트 생성\n",
    "        \n",
    "        #영화 정보 수집하기\n",
    "        time.sleep(10)\n",
    "    \n",
    "        input_date-=1\n",
    "        \n",
    "    except :\n",
    "        break"
   ]
  },
  {
   "cell_type": "code",
   "execution_count": 39,
   "id": "0f6babf9",
   "metadata": {},
   "outputs": [],
   "source": [
    "# 영화 차트 수집하기\n",
    "\n",
    "# 페이지 읽어오기\n",
    "full_html=driver.page_source\n",
    "soup=BeautifulSoup(full_html, 'html.parser')\n",
    "\n",
    "# 검색날짜 \n",
    "search_date=soup.find('div','board_tit').get_text().replace(\"\\n\",\"\")"
   ]
  },
  {
   "cell_type": "code",
   "execution_count": 40,
   "id": "3dc8df96",
   "metadata": {
    "scrolled": true
   },
   "outputs": [
    {
     "name": "stdout",
     "output_type": "stream",
     "text": [
      "['일자', '순위', '영화명', '개봉일', '매출액', '매출액점유율', '매출액증감(전일대비)', '누적매출액', '관객수', '관객수증감(전일대비)', '누적관객수', '스크린수', '상영횟수']\n"
     ]
    }
   ],
   "source": [
    "# 컬럼 리스트 생성\n",
    "content_column=soup.find('thead').find_all('th',{'scope':'col'})\n",
    "\n",
    "column_list=[]\n",
    "column_list.append('일자')\n",
    "\n",
    "for i in content_column :\n",
    "    column_list.append(i.text.replace(\"\\t\",\"\").replace(\"\\n\",\"\").replace(\"오름차순내림차순\",\"\"))\n",
    "                       \n",
    "print(column_list)"
   ]
  },
  {
   "cell_type": "code",
   "execution_count": 41,
   "id": "aed14c96",
   "metadata": {},
   "outputs": [
    {
     "ename": "ElementClickInterceptedException",
     "evalue": "Message: element click intercepted: Element <a href=\"#\" onclick=\"mstView('movie','20198317');return false;\" title=\"...\">인생은 아름다워</a> is not clickable at point (389, 56). Other element would receive the click: <span class=\"bg_blue detailTopInfo\">...</span>\n  (Session info: chrome=106.0.5249.119)\nStacktrace:\nBacktrace:\n\tOrdinal0 [0x005CDF13+2219795]\n\tOrdinal0 [0x00562841+1779777]\n\tOrdinal0 [0x0047423D+803389]\n\tOrdinal0 [0x004A99D4+1022420]\n\tOrdinal0 [0x004A78C4+1013956]\n\tOrdinal0 [0x004A54AB+1004715]\n\tOrdinal0 [0x004A4117+999703]\n\tOrdinal0 [0x00499B76+957302]\n\tOrdinal0 [0x004BE7FC+1107964]\n\tOrdinal0 [0x004994B4+955572]\n\tOrdinal0 [0x004BEA14+1108500]\n\tOrdinal0 [0x004CF192+1175954]\n\tOrdinal0 [0x004BE616+1107478]\n\tOrdinal0 [0x00497F89+950153]\n\tOrdinal0 [0x00498F56+954198]\n\tGetHandleVerifier [0x008C2CB2+3040210]\n\tGetHandleVerifier [0x008B2BB4+2974420]\n\tGetHandleVerifier [0x00666A0A+565546]\n\tGetHandleVerifier [0x00665680+560544]\n\tOrdinal0 [0x00569A5C+1808988]\n\tOrdinal0 [0x0056E3A8+1827752]\n\tOrdinal0 [0x0056E495+1827989]\n\tOrdinal0 [0x005780A4+1867940]\n\tBaseThreadInitThunk [0x76DAFA29+25]\n\tRtlGetAppContainerNamedObjectPath [0x77817BBE+286]\n\tRtlGetAppContainerNamedObjectPath [0x77817B8E+238]\n",
     "output_type": "error",
     "traceback": [
      "\u001b[1;31m---------------------------------------------------------------------------\u001b[0m",
      "\u001b[1;31mElementClickInterceptedException\u001b[0m          Traceback (most recent call last)",
      "Input \u001b[1;32mIn [41]\u001b[0m, in \u001b[0;36m<cell line: 5>\u001b[1;34m()\u001b[0m\n\u001b[0;32m     17\u001b[0m \u001b[38;5;66;03m# 영화 정보 수집하기\u001b[39;00m\n\u001b[0;32m     18\u001b[0m \n\u001b[0;32m     19\u001b[0m \u001b[38;5;66;03m# 영화 정보 팝업 띄우기\u001b[39;00m\n\u001b[0;32m     20\u001b[0m movie_btn\u001b[38;5;241m=\u001b[39mdriver\u001b[38;5;241m.\u001b[39mfind_element(By\u001b[38;5;241m.\u001b[39mLINK_TEXT,\u001b[38;5;28mstr\u001b[39m(movie_title))\n\u001b[1;32m---> 21\u001b[0m \u001b[43mmovie_btn\u001b[49m\u001b[38;5;241;43m.\u001b[39;49m\u001b[43mclick\u001b[49m\u001b[43m(\u001b[49m\u001b[43m)\u001b[49m\n\u001b[0;32m     22\u001b[0m time\u001b[38;5;241m.\u001b[39msleep(\u001b[38;5;241m2\u001b[39m)\n\u001b[0;32m     24\u001b[0m movie_html\u001b[38;5;241m=\u001b[39mdriver\u001b[38;5;241m.\u001b[39mpage_source\n",
      "File \u001b[1;32mC:\\ProgramData\\Anaconda3\\lib\\site-packages\\selenium\\webdriver\\remote\\webelement.py:88\u001b[0m, in \u001b[0;36mWebElement.click\u001b[1;34m(self)\u001b[0m\n\u001b[0;32m     86\u001b[0m \u001b[38;5;28;01mdef\u001b[39;00m \u001b[38;5;21mclick\u001b[39m(\u001b[38;5;28mself\u001b[39m) \u001b[38;5;241m-\u001b[39m\u001b[38;5;241m>\u001b[39m \u001b[38;5;28;01mNone\u001b[39;00m:\n\u001b[0;32m     87\u001b[0m     \u001b[38;5;124;03m\"\"\"Clicks the element.\"\"\"\u001b[39;00m\n\u001b[1;32m---> 88\u001b[0m     \u001b[38;5;28;43mself\u001b[39;49m\u001b[38;5;241;43m.\u001b[39;49m\u001b[43m_execute\u001b[49m\u001b[43m(\u001b[49m\u001b[43mCommand\u001b[49m\u001b[38;5;241;43m.\u001b[39;49m\u001b[43mCLICK_ELEMENT\u001b[49m\u001b[43m)\u001b[49m\n",
      "File \u001b[1;32mC:\\ProgramData\\Anaconda3\\lib\\site-packages\\selenium\\webdriver\\remote\\webelement.py:396\u001b[0m, in \u001b[0;36mWebElement._execute\u001b[1;34m(self, command, params)\u001b[0m\n\u001b[0;32m    394\u001b[0m     params \u001b[38;5;241m=\u001b[39m {}\n\u001b[0;32m    395\u001b[0m params[\u001b[38;5;124m'\u001b[39m\u001b[38;5;124mid\u001b[39m\u001b[38;5;124m'\u001b[39m] \u001b[38;5;241m=\u001b[39m \u001b[38;5;28mself\u001b[39m\u001b[38;5;241m.\u001b[39m_id\n\u001b[1;32m--> 396\u001b[0m \u001b[38;5;28;01mreturn\u001b[39;00m \u001b[38;5;28;43mself\u001b[39;49m\u001b[38;5;241;43m.\u001b[39;49m\u001b[43m_parent\u001b[49m\u001b[38;5;241;43m.\u001b[39;49m\u001b[43mexecute\u001b[49m\u001b[43m(\u001b[49m\u001b[43mcommand\u001b[49m\u001b[43m,\u001b[49m\u001b[43m \u001b[49m\u001b[43mparams\u001b[49m\u001b[43m)\u001b[49m\n",
      "File \u001b[1;32mC:\\ProgramData\\Anaconda3\\lib\\site-packages\\selenium\\webdriver\\remote\\webdriver.py:428\u001b[0m, in \u001b[0;36mWebDriver.execute\u001b[1;34m(self, driver_command, params)\u001b[0m\n\u001b[0;32m    426\u001b[0m response \u001b[38;5;241m=\u001b[39m \u001b[38;5;28mself\u001b[39m\u001b[38;5;241m.\u001b[39mcommand_executor\u001b[38;5;241m.\u001b[39mexecute(driver_command, params)\n\u001b[0;32m    427\u001b[0m \u001b[38;5;28;01mif\u001b[39;00m response:\n\u001b[1;32m--> 428\u001b[0m     \u001b[38;5;28;43mself\u001b[39;49m\u001b[38;5;241;43m.\u001b[39;49m\u001b[43merror_handler\u001b[49m\u001b[38;5;241;43m.\u001b[39;49m\u001b[43mcheck_response\u001b[49m\u001b[43m(\u001b[49m\u001b[43mresponse\u001b[49m\u001b[43m)\u001b[49m\n\u001b[0;32m    429\u001b[0m     response[\u001b[38;5;124m'\u001b[39m\u001b[38;5;124mvalue\u001b[39m\u001b[38;5;124m'\u001b[39m] \u001b[38;5;241m=\u001b[39m \u001b[38;5;28mself\u001b[39m\u001b[38;5;241m.\u001b[39m_unwrap_value(\n\u001b[0;32m    430\u001b[0m         response\u001b[38;5;241m.\u001b[39mget(\u001b[38;5;124m'\u001b[39m\u001b[38;5;124mvalue\u001b[39m\u001b[38;5;124m'\u001b[39m, \u001b[38;5;28;01mNone\u001b[39;00m))\n\u001b[0;32m    431\u001b[0m     \u001b[38;5;28;01mreturn\u001b[39;00m response\n",
      "File \u001b[1;32mC:\\ProgramData\\Anaconda3\\lib\\site-packages\\selenium\\webdriver\\remote\\errorhandler.py:243\u001b[0m, in \u001b[0;36mErrorHandler.check_response\u001b[1;34m(self, response)\u001b[0m\n\u001b[0;32m    241\u001b[0m         alert_text \u001b[38;5;241m=\u001b[39m value[\u001b[38;5;124m'\u001b[39m\u001b[38;5;124malert\u001b[39m\u001b[38;5;124m'\u001b[39m]\u001b[38;5;241m.\u001b[39mget(\u001b[38;5;124m'\u001b[39m\u001b[38;5;124mtext\u001b[39m\u001b[38;5;124m'\u001b[39m)\n\u001b[0;32m    242\u001b[0m     \u001b[38;5;28;01mraise\u001b[39;00m exception_class(message, screen, stacktrace, alert_text)  \u001b[38;5;66;03m# type: ignore[call-arg]  # mypy is not smart enough here\u001b[39;00m\n\u001b[1;32m--> 243\u001b[0m \u001b[38;5;28;01mraise\u001b[39;00m exception_class(message, screen, stacktrace)\n",
      "\u001b[1;31mElementClickInterceptedException\u001b[0m: Message: element click intercepted: Element <a href=\"#\" onclick=\"mstView('movie','20198317');return false;\" title=\"...\">인생은 아름다워</a> is not clickable at point (389, 56). Other element would receive the click: <span class=\"bg_blue detailTopInfo\">...</span>\n  (Session info: chrome=106.0.5249.119)\nStacktrace:\nBacktrace:\n\tOrdinal0 [0x005CDF13+2219795]\n\tOrdinal0 [0x00562841+1779777]\n\tOrdinal0 [0x0047423D+803389]\n\tOrdinal0 [0x004A99D4+1022420]\n\tOrdinal0 [0x004A78C4+1013956]\n\tOrdinal0 [0x004A54AB+1004715]\n\tOrdinal0 [0x004A4117+999703]\n\tOrdinal0 [0x00499B76+957302]\n\tOrdinal0 [0x004BE7FC+1107964]\n\tOrdinal0 [0x004994B4+955572]\n\tOrdinal0 [0x004BEA14+1108500]\n\tOrdinal0 [0x004CF192+1175954]\n\tOrdinal0 [0x004BE616+1107478]\n\tOrdinal0 [0x00497F89+950153]\n\tOrdinal0 [0x00498F56+954198]\n\tGetHandleVerifier [0x008C2CB2+3040210]\n\tGetHandleVerifier [0x008B2BB4+2974420]\n\tGetHandleVerifier [0x00666A0A+565546]\n\tGetHandleVerifier [0x00665680+560544]\n\tOrdinal0 [0x00569A5C+1808988]\n\tOrdinal0 [0x0056E3A8+1827752]\n\tOrdinal0 [0x0056E495+1827989]\n\tOrdinal0 [0x005780A4+1867940]\n\tBaseThreadInitThunk [0x76DAFA29+25]\n\tRtlGetAppContainerNamedObjectPath [0x77817BBE+286]\n\tRtlGetAppContainerNamedObjectPath [0x77817B8E+238]\n"
     ]
    }
   ],
   "source": [
    "# 항목 리스트 생성\n",
    "rank_table=soup.find('tbody').find_all('tr')\n",
    "\n",
    "rank_list=[]\n",
    "for movie in rank_table :\n",
    "    \n",
    "    movie_rank=movie.find('td').text.replace(\"\\t\",\"\").replace(\"\\n\",\"\")\n",
    "    rank_list.append(movie_rank)\n",
    "    \n",
    "    movie_title=movie.find('span','ellip per90').get_text()\n",
    "    rank_list.append(movie_title)\n",
    "    \n",
    "    movie_chart=movie.find_all('td','tar')\n",
    "    for i in movie_chart :\n",
    "        rank_list.append(i.text.replace(\"\\t\",\"\").replace(\"\\n\",\"\"))\n",
    "        \n",
    "    # 영화 정보 수집하기\n",
    "\n",
    "    # 영화 정보 팝업 띄우기\n",
    "    movie_btn=driver.find_element(By.LINK_TEXT,str(movie_title))\n",
    "    movie_btn.click()\n",
    "    time.sleep(2)\n",
    "    \n",
    "    movie_html=driver.page_source\n",
    "    soup=BeautifulSoup(movie_html, 'html.parser')\n",
    "    \n",
    "    \n",
    "# print(rank_list)"
   ]
  }
 ],
 "metadata": {
  "kernelspec": {
   "display_name": "Python 3 (ipykernel)",
   "language": "python",
   "name": "python3"
  },
  "language_info": {
   "codemirror_mode": {
    "name": "ipython",
    "version": 3
   },
   "file_extension": ".py",
   "mimetype": "text/x-python",
   "name": "python",
   "nbconvert_exporter": "python",
   "pygments_lexer": "ipython3",
   "version": "3.9.12"
  }
 },
 "nbformat": 4,
 "nbformat_minor": 5
}
